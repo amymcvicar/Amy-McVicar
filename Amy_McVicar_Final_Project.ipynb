{
 "cells": [
  {
   "cell_type": "markdown",
   "metadata": {},
   "source": [
    "##### Amy McVicar\n",
    "##### IST 652 Data Scripting\n",
    "##### Spring 2020\n",
    "\n",
    "# MovieLens Movie Reviews\n",
    "\n",
    "## Introduction\n",
    "\n",
    "    This report will explore a set of movie reviews from the MovieLens small dataset for recommended for education and development projects. MovieLens is a recommendation engine for movies. It and the resulting data sets are curated by GroupLens Research at the University of Minnesota. The work is funded by a grant from the National Science Foundation. \n",
    "    \n",
    "    Thru simple exploratory and comparison analysis this report will determine any trends over time in ratings for movies, select, genres, and reviewers.\n",
    "    \n",
    "    What is the popularity of different genre's?\n",
    "    Has genre popularity changed over time and how?\n",
    "    Do movie ratings trends change over time?\n",
    "    Do a reviewers genres and ratings change over time?\n",
    "  \n",
    "### Data\n",
    "\n",
    "    MovieLens offered many different datasets for different uses. The dataset used for this report is a development set recommended for Education and Development and is referred to a as the MovieLens Latest Datasets. It isn't recommended for research or shared results. MovieLens data sets can be found here: https://grouplens.org/datasets/movielens/  A permalink to the data set used can be found here: https://grouplens.org/datasets/movielens/latest/\n",
    "    \n",
    "    100,836 ratings and 3,683 tags across 9742 movies is provided in several files: links.csv, movies.csv, ratings.csv and tags.csv. This data was generated on September 26, 2018 by 610 users that reviewed 20 or more movies March 29, 1996 and September 24, 2018, but were otherwise randomly selected. No other information regarding the users is included beyond id."
   ]
  },
  {
   "cell_type": "markdown",
   "metadata": {},
   "source": [
    "### Data Preparation\n",
    "\n",
    " Both the ratings and movies files were used for this analysis. The movie title originally contained the year it was made as well as additional titles the movie may be known as this. The year was split out into an additional column before upload using MS Excel. In data preparation the timestamp of reviews was converted to date and year. Both files were compiled together. "
   ]
  },
  {
   "cell_type": "code",
   "execution_count": 34,
   "metadata": {},
   "outputs": [
    {
     "ename": "ModuleNotFoundError",
     "evalue": "No module named 'ggplot'",
     "output_type": "error",
     "traceback": [
      "\u001b[1;31m---------------------------------------------------------------------------\u001b[0m",
      "\u001b[1;31mModuleNotFoundError\u001b[0m                       Traceback (most recent call last)",
      "\u001b[1;32m<ipython-input-34-45de4a56459b>\u001b[0m in \u001b[0;36m<module>\u001b[1;34m\u001b[0m\n\u001b[0;32m     12\u001b[0m \u001b[1;32mfrom\u001b[0m \u001b[0mmatplotlib\u001b[0m \u001b[1;32mimport\u001b[0m \u001b[0mpyplot\u001b[0m\u001b[1;33m\u001b[0m\u001b[1;33m\u001b[0m\u001b[0m\n\u001b[0;32m     13\u001b[0m \u001b[1;32mimport\u001b[0m \u001b[0mplotnine\u001b[0m\u001b[1;33m\u001b[0m\u001b[1;33m\u001b[0m\u001b[0m\n\u001b[1;32m---> 14\u001b[1;33m \u001b[1;32mimport\u001b[0m \u001b[0mggplot\u001b[0m\u001b[1;33m\u001b[0m\u001b[1;33m\u001b[0m\u001b[0m\n\u001b[0m",
      "\u001b[1;31mModuleNotFoundError\u001b[0m: No module named 'ggplot'"
     ]
    }
   ],
   "source": [
    "# load packages\n",
    "import os\n",
    "import csv\n",
    "import pandas as pd\n",
    "import pandas_profiling\n",
    "import numpy as np\n",
    "import datetime\n",
    "import matplotlib.pyplot as plt\n",
    "%matplotlib inline\n",
    "import seaborn as sns\n",
    "import matplotlib\n",
    "from matplotlib import pyplot\n",
    "import plotnine\n",
    "import ggplot\n"
   ]
  },
  {
   "cell_type": "code",
   "execution_count": 3,
   "metadata": {},
   "outputs": [],
   "source": [
    "# Change directory to file location\n",
    "os.chdir(r\"C:\\Users\\amcvicar\\OneDrive\\School\\Syracuse\\652 Data Scripting\\Project\\ml-latest-small\")"
   ]
  },
  {
   "cell_type": "code",
   "execution_count": 4,
   "metadata": {},
   "outputs": [
    {
     "data": {
      "text/html": [
       "<div>\n",
       "<style scoped>\n",
       "    .dataframe tbody tr th:only-of-type {\n",
       "        vertical-align: middle;\n",
       "    }\n",
       "\n",
       "    .dataframe tbody tr th {\n",
       "        vertical-align: top;\n",
       "    }\n",
       "\n",
       "    .dataframe thead th {\n",
       "        text-align: right;\n",
       "    }\n",
       "</style>\n",
       "<table border=\"1\" class=\"dataframe\">\n",
       "  <thead>\n",
       "    <tr style=\"text-align: right;\">\n",
       "      <th></th>\n",
       "      <th>userId</th>\n",
       "      <th>movieId</th>\n",
       "      <th>rating</th>\n",
       "      <th>timestamp</th>\n",
       "    </tr>\n",
       "  </thead>\n",
       "  <tbody>\n",
       "    <tr>\n",
       "      <th>0</th>\n",
       "      <td>1</td>\n",
       "      <td>1</td>\n",
       "      <td>4.0</td>\n",
       "      <td>964982703</td>\n",
       "    </tr>\n",
       "    <tr>\n",
       "      <th>1</th>\n",
       "      <td>1</td>\n",
       "      <td>3</td>\n",
       "      <td>4.0</td>\n",
       "      <td>964981247</td>\n",
       "    </tr>\n",
       "    <tr>\n",
       "      <th>2</th>\n",
       "      <td>1</td>\n",
       "      <td>6</td>\n",
       "      <td>4.0</td>\n",
       "      <td>964982224</td>\n",
       "    </tr>\n",
       "    <tr>\n",
       "      <th>3</th>\n",
       "      <td>1</td>\n",
       "      <td>47</td>\n",
       "      <td>5.0</td>\n",
       "      <td>964983815</td>\n",
       "    </tr>\n",
       "    <tr>\n",
       "      <th>4</th>\n",
       "      <td>1</td>\n",
       "      <td>50</td>\n",
       "      <td>5.0</td>\n",
       "      <td>964982931</td>\n",
       "    </tr>\n",
       "  </tbody>\n",
       "</table>\n",
       "</div>"
      ],
      "text/plain": [
       "   userId  movieId  rating  timestamp\n",
       "0       1        1     4.0  964982703\n",
       "1       1        3     4.0  964981247\n",
       "2       1        6     4.0  964982224\n",
       "3       1       47     5.0  964983815\n",
       "4       1       50     5.0  964982931"
      ]
     },
     "execution_count": 4,
     "metadata": {},
     "output_type": "execute_result"
    }
   ],
   "source": [
    "# Load data\n",
    "# Ratings FILE\n",
    "# Specify file to import\n",
    "infile = 'ratings.csv'\n",
    "# Read cvs with pandas read_csv\n",
    "r = pd.read_csv(infile)\n",
    "# Convert to pandas dataframe\n",
    "r = pd.DataFrame(r)\n",
    "# View data\n",
    "r.head()"
   ]
  },
  {
   "cell_type": "code",
   "execution_count": 5,
   "metadata": {},
   "outputs": [
    {
     "data": {
      "text/html": [
       "<div>\n",
       "<style scoped>\n",
       "    .dataframe tbody tr th:only-of-type {\n",
       "        vertical-align: middle;\n",
       "    }\n",
       "\n",
       "    .dataframe tbody tr th {\n",
       "        vertical-align: top;\n",
       "    }\n",
       "\n",
       "    .dataframe thead th {\n",
       "        text-align: right;\n",
       "    }\n",
       "</style>\n",
       "<table border=\"1\" class=\"dataframe\">\n",
       "  <thead>\n",
       "    <tr style=\"text-align: right;\">\n",
       "      <th></th>\n",
       "      <th>movieId</th>\n",
       "      <th>movie</th>\n",
       "      <th>year</th>\n",
       "      <th>genres</th>\n",
       "    </tr>\n",
       "  </thead>\n",
       "  <tbody>\n",
       "    <tr>\n",
       "      <th>0</th>\n",
       "      <td>122912</td>\n",
       "      <td>Avengers: Infinity War - Part I</td>\n",
       "      <td>2018</td>\n",
       "      <td>Action|Adventure|Sci-Fi</td>\n",
       "    </tr>\n",
       "    <tr>\n",
       "      <th>1</th>\n",
       "      <td>182715</td>\n",
       "      <td>Annihilation</td>\n",
       "      <td>2018</td>\n",
       "      <td>Adventure|Mystery|Sci-Fi|Thriller</td>\n",
       "    </tr>\n",
       "    <tr>\n",
       "      <th>2</th>\n",
       "      <td>183011</td>\n",
       "      <td>The Commuter</td>\n",
       "      <td>2018</td>\n",
       "      <td>Crime|Drama|Mystery|Thriller</td>\n",
       "    </tr>\n",
       "    <tr>\n",
       "      <th>3</th>\n",
       "      <td>183295</td>\n",
       "      <td>Insidious: The Last Key</td>\n",
       "      <td>2018</td>\n",
       "      <td>Horror|Mystery|Thriller</td>\n",
       "    </tr>\n",
       "    <tr>\n",
       "      <th>4</th>\n",
       "      <td>183611</td>\n",
       "      <td>Game Night</td>\n",
       "      <td>2018</td>\n",
       "      <td>Action|Comedy|Crime|Horror</td>\n",
       "    </tr>\n",
       "  </tbody>\n",
       "</table>\n",
       "</div>"
      ],
      "text/plain": [
       "   movieId                            movie  year  \\\n",
       "0   122912  Avengers: Infinity War - Part I  2018   \n",
       "1   182715                     Annihilation  2018   \n",
       "2   183011                     The Commuter  2018   \n",
       "3   183295          Insidious: The Last Key  2018   \n",
       "4   183611                       Game Night  2018   \n",
       "\n",
       "                              genres  \n",
       "0            Action|Adventure|Sci-Fi  \n",
       "1  Adventure|Mystery|Sci-Fi|Thriller  \n",
       "2       Crime|Drama|Mystery|Thriller  \n",
       "3            Horror|Mystery|Thriller  \n",
       "4         Action|Comedy|Crime|Horror  "
      ]
     },
     "execution_count": 5,
     "metadata": {},
     "output_type": "execute_result"
    }
   ],
   "source": [
    "# Load data\n",
    "# Movies FILE\n",
    "# Specify file to import\n",
    "infile = 'movies_1.csv'\n",
    "# Read cvs with pandas read_csv\n",
    "m = pd.read_csv(infile)\n",
    "# Convert to pandas dataframe\n",
    "m = pd.DataFrame(m)\n",
    "# View data\n",
    "m.head()"
   ]
  },
  {
   "cell_type": "code",
   "execution_count": 6,
   "metadata": {},
   "outputs": [],
   "source": [
    "# Concatanate Movie & Ratings data\n",
    "df = r.merge(m, how = 'left', left_on = 'movieId', right_on = 'movieId')"
   ]
  },
  {
   "cell_type": "code",
   "execution_count": 7,
   "metadata": {},
   "outputs": [
    {
     "data": {
      "text/html": [
       "<div>\n",
       "<style scoped>\n",
       "    .dataframe tbody tr th:only-of-type {\n",
       "        vertical-align: middle;\n",
       "    }\n",
       "\n",
       "    .dataframe tbody tr th {\n",
       "        vertical-align: top;\n",
       "    }\n",
       "\n",
       "    .dataframe thead th {\n",
       "        text-align: right;\n",
       "    }\n",
       "</style>\n",
       "<table border=\"1\" class=\"dataframe\">\n",
       "  <thead>\n",
       "    <tr style=\"text-align: right;\">\n",
       "      <th></th>\n",
       "      <th>userId</th>\n",
       "      <th>movieId</th>\n",
       "      <th>rating</th>\n",
       "      <th>timestamp</th>\n",
       "      <th>movie</th>\n",
       "      <th>year</th>\n",
       "      <th>genres</th>\n",
       "    </tr>\n",
       "  </thead>\n",
       "  <tbody>\n",
       "    <tr>\n",
       "      <th>0</th>\n",
       "      <td>1</td>\n",
       "      <td>1</td>\n",
       "      <td>4.0</td>\n",
       "      <td>964982703</td>\n",
       "      <td>Toy Story</td>\n",
       "      <td>1995.0</td>\n",
       "      <td>Adventure|Animation|Children|Comedy|Fantasy</td>\n",
       "    </tr>\n",
       "    <tr>\n",
       "      <th>1</th>\n",
       "      <td>1</td>\n",
       "      <td>3</td>\n",
       "      <td>4.0</td>\n",
       "      <td>964981247</td>\n",
       "      <td>Grumpier Old Men</td>\n",
       "      <td>1995.0</td>\n",
       "      <td>Comedy|Romance</td>\n",
       "    </tr>\n",
       "    <tr>\n",
       "      <th>2</th>\n",
       "      <td>1</td>\n",
       "      <td>6</td>\n",
       "      <td>4.0</td>\n",
       "      <td>964982224</td>\n",
       "      <td>Heat</td>\n",
       "      <td>1995.0</td>\n",
       "      <td>Action|Crime|Thriller</td>\n",
       "    </tr>\n",
       "    <tr>\n",
       "      <th>3</th>\n",
       "      <td>1</td>\n",
       "      <td>47</td>\n",
       "      <td>5.0</td>\n",
       "      <td>964983815</td>\n",
       "      <td>Seven (a.k.a. Se7en)</td>\n",
       "      <td>1995.0</td>\n",
       "      <td>Mystery|Thriller</td>\n",
       "    </tr>\n",
       "    <tr>\n",
       "      <th>4</th>\n",
       "      <td>1</td>\n",
       "      <td>50</td>\n",
       "      <td>5.0</td>\n",
       "      <td>964982931</td>\n",
       "      <td>Usual Suspects, The</td>\n",
       "      <td>1995.0</td>\n",
       "      <td>Crime|Mystery|Thriller</td>\n",
       "    </tr>\n",
       "  </tbody>\n",
       "</table>\n",
       "</div>"
      ],
      "text/plain": [
       "   userId  movieId  rating  timestamp                 movie    year  \\\n",
       "0       1        1     4.0  964982703             Toy Story  1995.0   \n",
       "1       1        3     4.0  964981247      Grumpier Old Men  1995.0   \n",
       "2       1        6     4.0  964982224                  Heat  1995.0   \n",
       "3       1       47     5.0  964983815  Seven (a.k.a. Se7en)  1995.0   \n",
       "4       1       50     5.0  964982931   Usual Suspects, The  1995.0   \n",
       "\n",
       "                                        genres  \n",
       "0  Adventure|Animation|Children|Comedy|Fantasy  \n",
       "1                               Comedy|Romance  \n",
       "2                        Action|Crime|Thriller  \n",
       "3                             Mystery|Thriller  \n",
       "4                       Crime|Mystery|Thriller  "
      ]
     },
     "execution_count": 7,
     "metadata": {},
     "output_type": "execute_result"
    }
   ],
   "source": [
    "df.head()"
   ]
  },
  {
   "cell_type": "code",
   "execution_count": 8,
   "metadata": {},
   "outputs": [],
   "source": [
    "# Conver year from float to integer & rename column\n",
    "df['movie_year'] = np.int64(df['year'])"
   ]
  },
  {
   "cell_type": "code",
   "execution_count": 9,
   "metadata": {},
   "outputs": [
    {
     "name": "stdout",
     "output_type": "stream",
     "text": [
      "54\n"
     ]
    }
   ],
   "source": [
    "# Check for nulls\n",
    "print(df.isnull().values.sum())"
   ]
  },
  {
   "cell_type": "code",
   "execution_count": 10,
   "metadata": {},
   "outputs": [
    {
     "name": "stdout",
     "output_type": "stream",
     "text": [
      "0\n"
     ]
    }
   ],
   "source": [
    "# Drop rows with nulls\n",
    "df.dropna(inplace=True)\n",
    "# Re-check for nulls\n",
    "print(df.isnull().values.sum())"
   ]
  },
  {
   "cell_type": "code",
   "execution_count": 11,
   "metadata": {},
   "outputs": [
    {
     "name": "stdout",
     "output_type": "stream",
     "text": [
      "<class 'pandas.core.frame.DataFrame'>\n",
      "Int64Index: 100818 entries, 0 to 100835\n",
      "Data columns (total 8 columns):\n",
      " #   Column      Non-Null Count   Dtype  \n",
      "---  ------      --------------   -----  \n",
      " 0   userId      100818 non-null  int64  \n",
      " 1   movieId     100818 non-null  int64  \n",
      " 2   rating      100818 non-null  float64\n",
      " 3   timestamp   100818 non-null  int64  \n",
      " 4   movie       100818 non-null  object \n",
      " 5   year        100818 non-null  float64\n",
      " 6   genres      100818 non-null  object \n",
      " 7   movie_year  100818 non-null  int64  \n",
      "dtypes: float64(2), int64(4), object(2)\n",
      "memory usage: 6.9+ MB\n",
      "None\n"
     ]
    }
   ],
   "source": [
    "# Basic Information\n",
    "print(df.info())"
   ]
  },
  {
   "cell_type": "code",
   "execution_count": 12,
   "metadata": {},
   "outputs": [
    {
     "name": "stdout",
     "output_type": "stream",
     "text": [
      "<class 'pandas.core.frame.DataFrame'>\n",
      "Int64Index: 100818 entries, 0 to 100835\n",
      "Data columns (total 11 columns):\n",
      " #   Column            Non-Null Count   Dtype         \n",
      "---  ------            --------------   -----         \n",
      " 0   userId            100818 non-null  int64         \n",
      " 1   movieId           100818 non-null  int64         \n",
      " 2   rating            100818 non-null  float64       \n",
      " 3   timestamp         100818 non-null  int64         \n",
      " 4   movie             100818 non-null  object        \n",
      " 5   year              100818 non-null  float64       \n",
      " 6   genres            100818 non-null  object        \n",
      " 7   movie_year        100818 non-null  int64         \n",
      " 8   ratings_datetime  100818 non-null  datetime64[ns]\n",
      " 9   ratings_date      100818 non-null  object        \n",
      " 10  ratings_year      100818 non-null  int64         \n",
      "dtypes: datetime64[ns](1), float64(2), int64(5), object(3)\n",
      "memory usage: 9.2+ MB\n",
      "None\n"
     ]
    }
   ],
   "source": [
    "# Convert timestamp column to datetime\n",
    "df['ratings_datetime'] = pd.to_datetime(df['timestamp'], unit='s')\n",
    "\n",
    "# Create rating date & rating year columns\n",
    "df['ratings_date'] = df['ratings_datetime'].dt.date\n",
    "df['ratings_year'] = df['ratings_datetime'].dt.year\n",
    "\n",
    "print(df.info())"
   ]
  },
  {
   "cell_type": "code",
   "execution_count": 13,
   "metadata": {},
   "outputs": [
    {
     "name": "stdout",
     "output_type": "stream",
     "text": [
      "<class 'pandas.core.frame.DataFrame'>\n",
      "Int64Index: 100818 entries, 0 to 100835\n",
      "Data columns (total 9 columns):\n",
      " #   Column            Non-Null Count   Dtype         \n",
      "---  ------            --------------   -----         \n",
      " 0   userId            100818 non-null  int64         \n",
      " 1   movieId           100818 non-null  int64         \n",
      " 2   rating            100818 non-null  float64       \n",
      " 3   movie             100818 non-null  object        \n",
      " 4   genres            100818 non-null  object        \n",
      " 5   movie_year        100818 non-null  int64         \n",
      " 6   ratings_datetime  100818 non-null  datetime64[ns]\n",
      " 7   ratings_date      100818 non-null  object        \n",
      " 8   ratings_year      100818 non-null  int64         \n",
      "dtypes: datetime64[ns](1), float64(1), int64(4), object(3)\n",
      "memory usage: 7.7+ MB\n",
      "None\n"
     ]
    }
   ],
   "source": [
    "# Drop unneeded columns\n",
    "df = df.drop(['year', 'timestamp'], axis=1)\n",
    "print(df.info())"
   ]
  },
  {
   "cell_type": "code",
   "execution_count": 14,
   "metadata": {},
   "outputs": [
    {
     "data": {
      "text/html": [
       "<div>\n",
       "<style scoped>\n",
       "    .dataframe tbody tr th:only-of-type {\n",
       "        vertical-align: middle;\n",
       "    }\n",
       "\n",
       "    .dataframe tbody tr th {\n",
       "        vertical-align: top;\n",
       "    }\n",
       "\n",
       "    .dataframe thead th {\n",
       "        text-align: right;\n",
       "    }\n",
       "</style>\n",
       "<table border=\"1\" class=\"dataframe\">\n",
       "  <thead>\n",
       "    <tr style=\"text-align: right;\">\n",
       "      <th></th>\n",
       "      <th>userId</th>\n",
       "      <th>movieId</th>\n",
       "      <th>rating</th>\n",
       "      <th>movie</th>\n",
       "      <th>genres</th>\n",
       "      <th>movie_year</th>\n",
       "      <th>ratings_datetime</th>\n",
       "      <th>ratings_date</th>\n",
       "      <th>ratings_year</th>\n",
       "    </tr>\n",
       "  </thead>\n",
       "  <tbody>\n",
       "    <tr>\n",
       "      <th>0</th>\n",
       "      <td>1</td>\n",
       "      <td>1</td>\n",
       "      <td>4.0</td>\n",
       "      <td>Toy Story</td>\n",
       "      <td>Adventure|Animation|Children|Comedy|Fantasy</td>\n",
       "      <td>1995</td>\n",
       "      <td>2000-07-30 18:45:03</td>\n",
       "      <td>2000-07-30</td>\n",
       "      <td>2000</td>\n",
       "    </tr>\n",
       "    <tr>\n",
       "      <th>1</th>\n",
       "      <td>1</td>\n",
       "      <td>3</td>\n",
       "      <td>4.0</td>\n",
       "      <td>Grumpier Old Men</td>\n",
       "      <td>Comedy|Romance</td>\n",
       "      <td>1995</td>\n",
       "      <td>2000-07-30 18:20:47</td>\n",
       "      <td>2000-07-30</td>\n",
       "      <td>2000</td>\n",
       "    </tr>\n",
       "    <tr>\n",
       "      <th>2</th>\n",
       "      <td>1</td>\n",
       "      <td>6</td>\n",
       "      <td>4.0</td>\n",
       "      <td>Heat</td>\n",
       "      <td>Action|Crime|Thriller</td>\n",
       "      <td>1995</td>\n",
       "      <td>2000-07-30 18:37:04</td>\n",
       "      <td>2000-07-30</td>\n",
       "      <td>2000</td>\n",
       "    </tr>\n",
       "    <tr>\n",
       "      <th>3</th>\n",
       "      <td>1</td>\n",
       "      <td>47</td>\n",
       "      <td>5.0</td>\n",
       "      <td>Seven (a.k.a. Se7en)</td>\n",
       "      <td>Mystery|Thriller</td>\n",
       "      <td>1995</td>\n",
       "      <td>2000-07-30 19:03:35</td>\n",
       "      <td>2000-07-30</td>\n",
       "      <td>2000</td>\n",
       "    </tr>\n",
       "    <tr>\n",
       "      <th>4</th>\n",
       "      <td>1</td>\n",
       "      <td>50</td>\n",
       "      <td>5.0</td>\n",
       "      <td>Usual Suspects, The</td>\n",
       "      <td>Crime|Mystery|Thriller</td>\n",
       "      <td>1995</td>\n",
       "      <td>2000-07-30 18:48:51</td>\n",
       "      <td>2000-07-30</td>\n",
       "      <td>2000</td>\n",
       "    </tr>\n",
       "  </tbody>\n",
       "</table>\n",
       "</div>"
      ],
      "text/plain": [
       "   userId  movieId  rating                 movie  \\\n",
       "0       1        1     4.0             Toy Story   \n",
       "1       1        3     4.0      Grumpier Old Men   \n",
       "2       1        6     4.0                  Heat   \n",
       "3       1       47     5.0  Seven (a.k.a. Se7en)   \n",
       "4       1       50     5.0   Usual Suspects, The   \n",
       "\n",
       "                                        genres  movie_year  \\\n",
       "0  Adventure|Animation|Children|Comedy|Fantasy        1995   \n",
       "1                               Comedy|Romance        1995   \n",
       "2                        Action|Crime|Thriller        1995   \n",
       "3                             Mystery|Thriller        1995   \n",
       "4                       Crime|Mystery|Thriller        1995   \n",
       "\n",
       "     ratings_datetime ratings_date  ratings_year  \n",
       "0 2000-07-30 18:45:03   2000-07-30          2000  \n",
       "1 2000-07-30 18:20:47   2000-07-30          2000  \n",
       "2 2000-07-30 18:37:04   2000-07-30          2000  \n",
       "3 2000-07-30 19:03:35   2000-07-30          2000  \n",
       "4 2000-07-30 18:48:51   2000-07-30          2000  "
      ]
     },
     "execution_count": 14,
     "metadata": {},
     "output_type": "execute_result"
    }
   ],
   "source": [
    "df.head()"
   ]
  },
  {
   "cell_type": "code",
   "execution_count": 27,
   "metadata": {},
   "outputs": [],
   "source": [
    "# Export to Excel\n",
    "df.to_excel(\"Movie_Ratings.xlsx\") "
   ]
  },
  {
   "cell_type": "markdown",
   "metadata": {},
   "source": [
    "## Exploratory Data Analysis\n",
    "\n"
   ]
  },
  {
   "cell_type": "code",
   "execution_count": 15,
   "metadata": {},
   "outputs": [
    {
     "data": {
      "text/html": [
       "<div>\n",
       "<style scoped>\n",
       "    .dataframe tbody tr th:only-of-type {\n",
       "        vertical-align: middle;\n",
       "    }\n",
       "\n",
       "    .dataframe tbody tr th {\n",
       "        vertical-align: top;\n",
       "    }\n",
       "\n",
       "    .dataframe thead th {\n",
       "        text-align: right;\n",
       "    }\n",
       "</style>\n",
       "<table border=\"1\" class=\"dataframe\">\n",
       "  <thead>\n",
       "    <tr style=\"text-align: right;\">\n",
       "      <th></th>\n",
       "      <th>userId</th>\n",
       "      <th>movieId</th>\n",
       "      <th>rating</th>\n",
       "      <th>movie_year</th>\n",
       "      <th>ratings_year</th>\n",
       "    </tr>\n",
       "  </thead>\n",
       "  <tbody>\n",
       "    <tr>\n",
       "      <th>count</th>\n",
       "      <td>100818.000000</td>\n",
       "      <td>100818.000000</td>\n",
       "      <td>100818.000000</td>\n",
       "      <td>100818.000000</td>\n",
       "      <td>100818.000000</td>\n",
       "    </tr>\n",
       "    <tr>\n",
       "      <th>mean</th>\n",
       "      <td>326.128717</td>\n",
       "      <td>19412.910552</td>\n",
       "      <td>3.501532</td>\n",
       "      <td>1994.444990</td>\n",
       "      <td>2007.721191</td>\n",
       "    </tr>\n",
       "    <tr>\n",
       "      <th>std</th>\n",
       "      <td>182.620110</td>\n",
       "      <td>35490.816132</td>\n",
       "      <td>1.042469</td>\n",
       "      <td>14.361424</td>\n",
       "      <td>6.889737</td>\n",
       "    </tr>\n",
       "    <tr>\n",
       "      <th>min</th>\n",
       "      <td>1.000000</td>\n",
       "      <td>1.000000</td>\n",
       "      <td>0.500000</td>\n",
       "      <td>1902.000000</td>\n",
       "      <td>1996.000000</td>\n",
       "    </tr>\n",
       "    <tr>\n",
       "      <th>25%</th>\n",
       "      <td>177.000000</td>\n",
       "      <td>1199.000000</td>\n",
       "      <td>3.000000</td>\n",
       "      <td>1990.000000</td>\n",
       "      <td>2002.000000</td>\n",
       "    </tr>\n",
       "    <tr>\n",
       "      <th>50%</th>\n",
       "      <td>325.000000</td>\n",
       "      <td>2991.000000</td>\n",
       "      <td>3.500000</td>\n",
       "      <td>1997.000000</td>\n",
       "      <td>2007.000000</td>\n",
       "    </tr>\n",
       "    <tr>\n",
       "      <th>75%</th>\n",
       "      <td>477.000000</td>\n",
       "      <td>8044.000000</td>\n",
       "      <td>4.000000</td>\n",
       "      <td>2003.000000</td>\n",
       "      <td>2015.000000</td>\n",
       "    </tr>\n",
       "    <tr>\n",
       "      <th>max</th>\n",
       "      <td>610.000000</td>\n",
       "      <td>193609.000000</td>\n",
       "      <td>5.000000</td>\n",
       "      <td>2018.000000</td>\n",
       "      <td>2018.000000</td>\n",
       "    </tr>\n",
       "  </tbody>\n",
       "</table>\n",
       "</div>"
      ],
      "text/plain": [
       "              userId        movieId         rating     movie_year  \\\n",
       "count  100818.000000  100818.000000  100818.000000  100818.000000   \n",
       "mean      326.128717   19412.910552       3.501532    1994.444990   \n",
       "std       182.620110   35490.816132       1.042469      14.361424   \n",
       "min         1.000000       1.000000       0.500000    1902.000000   \n",
       "25%       177.000000    1199.000000       3.000000    1990.000000   \n",
       "50%       325.000000    2991.000000       3.500000    1997.000000   \n",
       "75%       477.000000    8044.000000       4.000000    2003.000000   \n",
       "max       610.000000  193609.000000       5.000000    2018.000000   \n",
       "\n",
       "        ratings_year  \n",
       "count  100818.000000  \n",
       "mean     2007.721191  \n",
       "std         6.889737  \n",
       "min      1996.000000  \n",
       "25%      2002.000000  \n",
       "50%      2007.000000  \n",
       "75%      2015.000000  \n",
       "max      2018.000000  "
      ]
     },
     "execution_count": 15,
     "metadata": {},
     "output_type": "execute_result"
    }
   ],
   "source": [
    "# Check Min and Max make sense\n",
    "df.describe()"
   ]
  },
  {
   "cell_type": "code",
   "execution_count": 16,
   "metadata": {},
   "outputs": [
    {
     "data": {
      "application/vnd.jupyter.widget-view+json": {
       "model_id": "72380fb4ecc24859ac4ca14a5e11990e",
       "version_major": 2,
       "version_minor": 0
      },
      "text/plain": [
       "HBox(children=(FloatProgress(value=0.0, description='variables', max=10.0, style=ProgressStyle(description_wid…"
      ]
     },
     "metadata": {},
     "output_type": "display_data"
    },
    {
     "name": "stdout",
     "output_type": "stream",
     "text": [
      "\n"
     ]
    },
    {
     "data": {
      "application/vnd.jupyter.widget-view+json": {
       "model_id": "d6614268fcb5449e97805496753af2c8",
       "version_major": 2,
       "version_minor": 0
      },
      "text/plain": [
       "HBox(children=(FloatProgress(value=0.0, description='correlations', max=6.0, style=ProgressStyle(description_w…"
      ]
     },
     "metadata": {},
     "output_type": "display_data"
    },
    {
     "name": "stdout",
     "output_type": "stream",
     "text": [
      "\n"
     ]
    },
    {
     "data": {
      "application/vnd.jupyter.widget-view+json": {
       "model_id": "5f1ead7afc7c46a390b3449cd94f35d1",
       "version_major": 2,
       "version_minor": 0
      },
      "text/plain": [
       "HBox(children=(FloatProgress(value=0.0, description='interactions [continuous]', max=36.0, style=ProgressStyle…"
      ]
     },
     "metadata": {},
     "output_type": "display_data"
    },
    {
     "name": "stdout",
     "output_type": "stream",
     "text": [
      "\n"
     ]
    },
    {
     "data": {
      "application/vnd.jupyter.widget-view+json": {
       "model_id": "f3e6f991c0eb4f4a95047def2a90386f",
       "version_major": 2,
       "version_minor": 0
      },
      "text/plain": [
       "HBox(children=(FloatProgress(value=0.0, description='table', max=1.0, style=ProgressStyle(description_width='i…"
      ]
     },
     "metadata": {},
     "output_type": "display_data"
    },
    {
     "name": "stdout",
     "output_type": "stream",
     "text": [
      "\n"
     ]
    },
    {
     "data": {
      "application/vnd.jupyter.widget-view+json": {
       "model_id": "13f83539d9b64bc6aa5f4e9b18f8c5b2",
       "version_major": 2,
       "version_minor": 0
      },
      "text/plain": [
       "HBox(children=(FloatProgress(value=0.0, description='missing', max=2.0, style=ProgressStyle(description_width=…"
      ]
     },
     "metadata": {},
     "output_type": "display_data"
    },
    {
     "name": "stdout",
     "output_type": "stream",
     "text": [
      "\n"
     ]
    },
    {
     "data": {
      "application/vnd.jupyter.widget-view+json": {
       "model_id": "5d5dce97850f4c319faecc2884ccbb06",
       "version_major": 2,
       "version_minor": 0
      },
      "text/plain": [
       "HBox(children=(FloatProgress(value=0.0, description='warnings', max=3.0, style=ProgressStyle(description_width…"
      ]
     },
     "metadata": {},
     "output_type": "display_data"
    },
    {
     "name": "stdout",
     "output_type": "stream",
     "text": [
      "\n"
     ]
    },
    {
     "data": {
      "application/vnd.jupyter.widget-view+json": {
       "model_id": "91ab3ebde84843309f4da28cb440380a",
       "version_major": 2,
       "version_minor": 0
      },
      "text/plain": [
       "HBox(children=(FloatProgress(value=0.0, description='package', max=1.0, style=ProgressStyle(description_width=…"
      ]
     },
     "metadata": {},
     "output_type": "display_data"
    },
    {
     "name": "stdout",
     "output_type": "stream",
     "text": [
      "\n"
     ]
    },
    {
     "data": {
      "application/vnd.jupyter.widget-view+json": {
       "model_id": "f36a78e6337648ad942bb86e78e1bd2a",
       "version_major": 2,
       "version_minor": 0
      },
      "text/plain": [
       "HBox(children=(FloatProgress(value=0.0, description='build report structure', max=1.0, style=ProgressStyle(des…"
      ]
     },
     "metadata": {},
     "output_type": "display_data"
    },
    {
     "name": "stdout",
     "output_type": "stream",
     "text": [
      "\n"
     ]
    }
   ],
   "source": [
    "#profile = df.profile_report(title='MovieLens Profiling Report')\n",
    "#profile.to_file(output_file=\"MovieLens_profiling.html\")"
   ]
  },
  {
   "cell_type": "code",
   "execution_count": 17,
   "metadata": {},
   "outputs": [
    {
     "data": {
      "text/plain": [
       "<matplotlib.axes._subplots.AxesSubplot at 0x294682cf608>"
      ]
     },
     "execution_count": 17,
     "metadata": {},
     "output_type": "execute_result"
    },
    {
     "data": {
      "image/png": "[encoded data removed]",
      "text/plain": [
       "<Figure size 432x288 with 1 Axes>"
      ]
     },
     "metadata": {
      "needs_background": "light"
     },
     "output_type": "display_data"
    }
   ],
   "source": [
    "sns.countplot(df['rating'])"
   ]
  },
  {
   "cell_type": "code",
   "execution_count": 18,
   "metadata": {},
   "outputs": [
    {
     "data": {
      "text/plain": [
       "<matplotlib.axes._subplots.AxesSubplot at 0x294697db288>"
      ]
     },
     "execution_count": 18,
     "metadata": {},
     "output_type": "execute_result"
    },
    {
     "data": {
      "image/png": "[encoded data removed]",
      "text/plain": [
       "<Figure size 432x288 with 1 Axes>"
      ]
     },
     "metadata": {
      "needs_background": "light"
     },
     "output_type": "display_data"
    }
   ],
   "source": [
    "sns.countplot(df['movie_year'])"
   ]
  },
  {
   "cell_type": "code",
   "execution_count": 19,
   "metadata": {},
   "outputs": [
    {
     "data": {
      "text/plain": [
       "<matplotlib.axes._subplots.AxesSubplot at 0x2946875fe48>"
      ]
     },
     "execution_count": 19,
     "metadata": {},
     "output_type": "execute_result"
    },
    {
     "data": {
      "image/png": "[encoded data removed]",
      "text/plain": [
       "<Figure size 432x288 with 1 Axes>"
      ]
     },
     "metadata": {
      "needs_background": "light"
     },
     "output_type": "display_data"
    }
   ],
   "source": [
    "sns.countplot(df['ratings_year'])"
   ]
  },
  {
   "cell_type": "code",
   "execution_count": 20,
   "metadata": {},
   "outputs": [
    {
     "data": {
      "text/plain": [
       "<matplotlib.axes._subplots.AxesSubplot at 0x2946888ae88>"
      ]
     },
     "execution_count": 20,
     "metadata": {},
     "output_type": "execute_result"
    },
    {
     "data": {
      "image/png": "[encoded data removed]",
      "text/plain": [
       "<Figure size 432x288 with 1 Axes>"
      ]
     },
     "metadata": {
      "needs_background": "light"
     },
     "output_type": "display_data"
    }
   ],
   "source": [
    "sns.boxplot('ratings_year', 'rating', data=df)"
   ]
  },
  {
   "cell_type": "code",
   "execution_count": 21,
   "metadata": {},
   "outputs": [
    {
     "data": {
      "text/plain": [
       "<seaborn.axisgrid.PairGrid at 0x29468afcd08>"
      ]
     },
     "execution_count": 21,
     "metadata": {},
     "output_type": "execute_result"
    },
    {
     "data": {
      "image/png": "[encoded data removed]",
      "text/plain": [
       "<Figure size 540x540 with 12 Axes>"
      ]
     },
     "metadata": {
      "needs_background": "light"
     },
     "output_type": "display_data"
    }
   ],
   "source": [
    "dfx = df.drop(['userId', 'movieId', 'ratings_datetime', 'ratings_date'], axis=1)\n",
    "sns.pairplot(dfx)"
   ]
  },
  {
   "cell_type": "markdown",
   "metadata": {},
   "source": [
    "## Results\n",
    "\n"
   ]
  },
  {
   "cell_type": "code",
   "execution_count": 22,
   "metadata": {},
   "outputs": [
    {
     "data": {
      "text/html": [
       "<div>\n",
       "<style scoped>\n",
       "    .dataframe tbody tr th:only-of-type {\n",
       "        vertical-align: middle;\n",
       "    }\n",
       "\n",
       "    .dataframe tbody tr th {\n",
       "        vertical-align: top;\n",
       "    }\n",
       "\n",
       "    .dataframe thead th {\n",
       "        text-align: right;\n",
       "    }\n",
       "</style>\n",
       "<table border=\"1\" class=\"dataframe\">\n",
       "  <thead>\n",
       "    <tr style=\"text-align: right;\">\n",
       "      <th>rating</th>\n",
       "      <th>0.5</th>\n",
       "      <th>1.0</th>\n",
       "      <th>1.5</th>\n",
       "      <th>2.0</th>\n",
       "      <th>2.5</th>\n",
       "      <th>3.0</th>\n",
       "      <th>3.5</th>\n",
       "      <th>4.0</th>\n",
       "      <th>4.5</th>\n",
       "      <th>5.0</th>\n",
       "      <th>All</th>\n",
       "    </tr>\n",
       "    <tr>\n",
       "      <th>ratings_year</th>\n",
       "      <th></th>\n",
       "      <th></th>\n",
       "      <th></th>\n",
       "      <th></th>\n",
       "      <th></th>\n",
       "      <th></th>\n",
       "      <th></th>\n",
       "      <th></th>\n",
       "      <th></th>\n",
       "      <th></th>\n",
       "      <th></th>\n",
       "    </tr>\n",
       "  </thead>\n",
       "  <tbody>\n",
       "    <tr>\n",
       "      <th>1996</th>\n",
       "      <td>NaN</td>\n",
       "      <td>390.0</td>\n",
       "      <td>NaN</td>\n",
       "      <td>808.0</td>\n",
       "      <td>NaN</td>\n",
       "      <td>5150.0</td>\n",
       "      <td>NaN</td>\n",
       "      <td>3402.0</td>\n",
       "      <td>NaN</td>\n",
       "      <td>2330.0</td>\n",
       "      <td>6040</td>\n",
       "    </tr>\n",
       "    <tr>\n",
       "      <th>1997</th>\n",
       "      <td>NaN</td>\n",
       "      <td>60.0</td>\n",
       "      <td>NaN</td>\n",
       "      <td>218.0</td>\n",
       "      <td>NaN</td>\n",
       "      <td>1318.0</td>\n",
       "      <td>NaN</td>\n",
       "      <td>1346.0</td>\n",
       "      <td>NaN</td>\n",
       "      <td>890.0</td>\n",
       "      <td>1916</td>\n",
       "    </tr>\n",
       "    <tr>\n",
       "      <th>1998</th>\n",
       "      <td>NaN</td>\n",
       "      <td>96.0</td>\n",
       "      <td>NaN</td>\n",
       "      <td>142.0</td>\n",
       "      <td>NaN</td>\n",
       "      <td>220.0</td>\n",
       "      <td>NaN</td>\n",
       "      <td>336.0</td>\n",
       "      <td>NaN</td>\n",
       "      <td>220.0</td>\n",
       "      <td>507</td>\n",
       "    </tr>\n",
       "    <tr>\n",
       "      <th>1999</th>\n",
       "      <td>NaN</td>\n",
       "      <td>224.0</td>\n",
       "      <td>NaN</td>\n",
       "      <td>454.0</td>\n",
       "      <td>NaN</td>\n",
       "      <td>1030.0</td>\n",
       "      <td>NaN</td>\n",
       "      <td>1670.0</td>\n",
       "      <td>NaN</td>\n",
       "      <td>1500.0</td>\n",
       "      <td>2439</td>\n",
       "    </tr>\n",
       "    <tr>\n",
       "      <th>2000</th>\n",
       "      <td>NaN</td>\n",
       "      <td>1276.0</td>\n",
       "      <td>NaN</td>\n",
       "      <td>3118.0</td>\n",
       "      <td>NaN</td>\n",
       "      <td>5772.0</td>\n",
       "      <td>NaN</td>\n",
       "      <td>6344.0</td>\n",
       "      <td>NaN</td>\n",
       "      <td>3612.0</td>\n",
       "      <td>10061</td>\n",
       "    </tr>\n",
       "    <tr>\n",
       "      <th>2001</th>\n",
       "      <td>NaN</td>\n",
       "      <td>414.0</td>\n",
       "      <td>NaN</td>\n",
       "      <td>960.0</td>\n",
       "      <td>NaN</td>\n",
       "      <td>2200.0</td>\n",
       "      <td>NaN</td>\n",
       "      <td>2734.0</td>\n",
       "      <td>NaN</td>\n",
       "      <td>1536.0</td>\n",
       "      <td>3922</td>\n",
       "    </tr>\n",
       "    <tr>\n",
       "      <th>2002</th>\n",
       "      <td>NaN</td>\n",
       "      <td>302.0</td>\n",
       "      <td>NaN</td>\n",
       "      <td>782.0</td>\n",
       "      <td>NaN</td>\n",
       "      <td>1808.0</td>\n",
       "      <td>NaN</td>\n",
       "      <td>2520.0</td>\n",
       "      <td>NaN</td>\n",
       "      <td>1544.0</td>\n",
       "      <td>3478</td>\n",
       "    </tr>\n",
       "    <tr>\n",
       "      <th>2003</th>\n",
       "      <td>116.0</td>\n",
       "      <td>174.0</td>\n",
       "      <td>162.0</td>\n",
       "      <td>740.0</td>\n",
       "      <td>400.0</td>\n",
       "      <td>1544.0</td>\n",
       "      <td>986.0</td>\n",
       "      <td>2110.0</td>\n",
       "      <td>730.0</td>\n",
       "      <td>1066.0</td>\n",
       "      <td>4014</td>\n",
       "    </tr>\n",
       "    <tr>\n",
       "      <th>2004</th>\n",
       "      <td>56.0</td>\n",
       "      <td>70.0</td>\n",
       "      <td>132.0</td>\n",
       "      <td>342.0</td>\n",
       "      <td>520.0</td>\n",
       "      <td>976.0</td>\n",
       "      <td>1628.0</td>\n",
       "      <td>1678.0</td>\n",
       "      <td>810.0</td>\n",
       "      <td>346.0</td>\n",
       "      <td>3279</td>\n",
       "    </tr>\n",
       "    <tr>\n",
       "      <th>2005</th>\n",
       "      <td>290.0</td>\n",
       "      <td>296.0</td>\n",
       "      <td>302.0</td>\n",
       "      <td>714.0</td>\n",
       "      <td>798.0</td>\n",
       "      <td>1858.0</td>\n",
       "      <td>2188.0</td>\n",
       "      <td>2792.0</td>\n",
       "      <td>1524.0</td>\n",
       "      <td>864.0</td>\n",
       "      <td>5813</td>\n",
       "    </tr>\n",
       "    <tr>\n",
       "      <th>2006</th>\n",
       "      <td>108.0</td>\n",
       "      <td>168.0</td>\n",
       "      <td>172.0</td>\n",
       "      <td>470.0</td>\n",
       "      <td>518.0</td>\n",
       "      <td>1306.0</td>\n",
       "      <td>1706.0</td>\n",
       "      <td>2124.0</td>\n",
       "      <td>1030.0</td>\n",
       "      <td>516.0</td>\n",
       "      <td>4059</td>\n",
       "    </tr>\n",
       "    <tr>\n",
       "      <th>2007</th>\n",
       "      <td>286.0</td>\n",
       "      <td>346.0</td>\n",
       "      <td>492.0</td>\n",
       "      <td>1042.0</td>\n",
       "      <td>1474.0</td>\n",
       "      <td>2286.0</td>\n",
       "      <td>2850.0</td>\n",
       "      <td>3270.0</td>\n",
       "      <td>1476.0</td>\n",
       "      <td>706.0</td>\n",
       "      <td>7114</td>\n",
       "    </tr>\n",
       "    <tr>\n",
       "      <th>2008</th>\n",
       "      <td>114.0</td>\n",
       "      <td>88.0</td>\n",
       "      <td>102.0</td>\n",
       "      <td>326.0</td>\n",
       "      <td>540.0</td>\n",
       "      <td>1190.0</td>\n",
       "      <td>1854.0</td>\n",
       "      <td>2442.0</td>\n",
       "      <td>1072.0</td>\n",
       "      <td>974.0</td>\n",
       "      <td>4351</td>\n",
       "    </tr>\n",
       "    <tr>\n",
       "      <th>2009</th>\n",
       "      <td>130.0</td>\n",
       "      <td>182.0</td>\n",
       "      <td>176.0</td>\n",
       "      <td>520.0</td>\n",
       "      <td>848.0</td>\n",
       "      <td>1628.0</td>\n",
       "      <td>1638.0</td>\n",
       "      <td>1630.0</td>\n",
       "      <td>832.0</td>\n",
       "      <td>732.0</td>\n",
       "      <td>4158</td>\n",
       "    </tr>\n",
       "    <tr>\n",
       "      <th>2010</th>\n",
       "      <td>88.0</td>\n",
       "      <td>90.0</td>\n",
       "      <td>74.0</td>\n",
       "      <td>272.0</td>\n",
       "      <td>372.0</td>\n",
       "      <td>786.0</td>\n",
       "      <td>976.0</td>\n",
       "      <td>1026.0</td>\n",
       "      <td>496.0</td>\n",
       "      <td>422.0</td>\n",
       "      <td>2301</td>\n",
       "    </tr>\n",
       "    <tr>\n",
       "      <th>2011</th>\n",
       "      <td>96.0</td>\n",
       "      <td>36.0</td>\n",
       "      <td>68.0</td>\n",
       "      <td>116.0</td>\n",
       "      <td>146.0</td>\n",
       "      <td>258.0</td>\n",
       "      <td>556.0</td>\n",
       "      <td>892.0</td>\n",
       "      <td>682.0</td>\n",
       "      <td>530.0</td>\n",
       "      <td>1690</td>\n",
       "    </tr>\n",
       "    <tr>\n",
       "      <th>2012</th>\n",
       "      <td>164.0</td>\n",
       "      <td>144.0</td>\n",
       "      <td>182.0</td>\n",
       "      <td>322.0</td>\n",
       "      <td>508.0</td>\n",
       "      <td>1116.0</td>\n",
       "      <td>1900.0</td>\n",
       "      <td>2704.0</td>\n",
       "      <td>1358.0</td>\n",
       "      <td>914.0</td>\n",
       "      <td>4656</td>\n",
       "    </tr>\n",
       "    <tr>\n",
       "      <th>2013</th>\n",
       "      <td>26.0</td>\n",
       "      <td>48.0</td>\n",
       "      <td>66.0</td>\n",
       "      <td>114.0</td>\n",
       "      <td>120.0</td>\n",
       "      <td>272.0</td>\n",
       "      <td>486.0</td>\n",
       "      <td>942.0</td>\n",
       "      <td>678.0</td>\n",
       "      <td>576.0</td>\n",
       "      <td>1664</td>\n",
       "    </tr>\n",
       "    <tr>\n",
       "      <th>2014</th>\n",
       "      <td>22.0</td>\n",
       "      <td>48.0</td>\n",
       "      <td>90.0</td>\n",
       "      <td>114.0</td>\n",
       "      <td>244.0</td>\n",
       "      <td>414.0</td>\n",
       "      <td>682.0</td>\n",
       "      <td>692.0</td>\n",
       "      <td>352.0</td>\n",
       "      <td>218.0</td>\n",
       "      <td>1438</td>\n",
       "    </tr>\n",
       "    <tr>\n",
       "      <th>2015</th>\n",
       "      <td>350.0</td>\n",
       "      <td>268.0</td>\n",
       "      <td>222.0</td>\n",
       "      <td>734.0</td>\n",
       "      <td>954.0</td>\n",
       "      <td>2106.0</td>\n",
       "      <td>2238.0</td>\n",
       "      <td>3422.0</td>\n",
       "      <td>1326.0</td>\n",
       "      <td>1612.0</td>\n",
       "      <td>6616</td>\n",
       "    </tr>\n",
       "    <tr>\n",
       "      <th>2016</th>\n",
       "      <td>236.0</td>\n",
       "      <td>174.0</td>\n",
       "      <td>290.0</td>\n",
       "      <td>598.0</td>\n",
       "      <td>702.0</td>\n",
       "      <td>1632.0</td>\n",
       "      <td>2368.0</td>\n",
       "      <td>3504.0</td>\n",
       "      <td>1926.0</td>\n",
       "      <td>1972.0</td>\n",
       "      <td>6701</td>\n",
       "    </tr>\n",
       "    <tr>\n",
       "      <th>2017</th>\n",
       "      <td>292.0</td>\n",
       "      <td>368.0</td>\n",
       "      <td>516.0</td>\n",
       "      <td>1152.0</td>\n",
       "      <td>1844.0</td>\n",
       "      <td>3504.0</td>\n",
       "      <td>2272.0</td>\n",
       "      <td>3362.0</td>\n",
       "      <td>1270.0</td>\n",
       "      <td>1814.0</td>\n",
       "      <td>8197</td>\n",
       "    </tr>\n",
       "    <tr>\n",
       "      <th>2018</th>\n",
       "      <td>364.0</td>\n",
       "      <td>358.0</td>\n",
       "      <td>536.0</td>\n",
       "      <td>1042.0</td>\n",
       "      <td>1112.0</td>\n",
       "      <td>1714.0</td>\n",
       "      <td>1940.0</td>\n",
       "      <td>2688.0</td>\n",
       "      <td>1536.0</td>\n",
       "      <td>1518.0</td>\n",
       "      <td>6404</td>\n",
       "    </tr>\n",
       "    <tr>\n",
       "      <th>All</th>\n",
       "      <td>1369.0</td>\n",
       "      <td>2810.0</td>\n",
       "      <td>1791.0</td>\n",
       "      <td>7550.0</td>\n",
       "      <td>5550.0</td>\n",
       "      <td>20044.0</td>\n",
       "      <td>13134.0</td>\n",
       "      <td>26815.0</td>\n",
       "      <td>8549.0</td>\n",
       "      <td>13206.0</td>\n",
       "      <td>100818</td>\n",
       "    </tr>\n",
       "  </tbody>\n",
       "</table>\n",
       "</div>"
      ],
      "text/plain": [
       "rating           0.5     1.0     1.5     2.0     2.5      3.0      3.5  \\\n",
       "ratings_year                                                             \n",
       "1996             NaN   390.0     NaN   808.0     NaN   5150.0      NaN   \n",
       "1997             NaN    60.0     NaN   218.0     NaN   1318.0      NaN   \n",
       "1998             NaN    96.0     NaN   142.0     NaN    220.0      NaN   \n",
       "1999             NaN   224.0     NaN   454.0     NaN   1030.0      NaN   \n",
       "2000             NaN  1276.0     NaN  3118.0     NaN   5772.0      NaN   \n",
       "2001             NaN   414.0     NaN   960.0     NaN   2200.0      NaN   \n",
       "2002             NaN   302.0     NaN   782.0     NaN   1808.0      NaN   \n",
       "2003           116.0   174.0   162.0   740.0   400.0   1544.0    986.0   \n",
       "2004            56.0    70.0   132.0   342.0   520.0    976.0   1628.0   \n",
       "2005           290.0   296.0   302.0   714.0   798.0   1858.0   2188.0   \n",
       "2006           108.0   168.0   172.0   470.0   518.0   1306.0   1706.0   \n",
       "2007           286.0   346.0   492.0  1042.0  1474.0   2286.0   2850.0   \n",
       "2008           114.0    88.0   102.0   326.0   540.0   1190.0   1854.0   \n",
       "2009           130.0   182.0   176.0   520.0   848.0   1628.0   1638.0   \n",
       "2010            88.0    90.0    74.0   272.0   372.0    786.0    976.0   \n",
       "2011            96.0    36.0    68.0   116.0   146.0    258.0    556.0   \n",
       "2012           164.0   144.0   182.0   322.0   508.0   1116.0   1900.0   \n",
       "2013            26.0    48.0    66.0   114.0   120.0    272.0    486.0   \n",
       "2014            22.0    48.0    90.0   114.0   244.0    414.0    682.0   \n",
       "2015           350.0   268.0   222.0   734.0   954.0   2106.0   2238.0   \n",
       "2016           236.0   174.0   290.0   598.0   702.0   1632.0   2368.0   \n",
       "2017           292.0   368.0   516.0  1152.0  1844.0   3504.0   2272.0   \n",
       "2018           364.0   358.0   536.0  1042.0  1112.0   1714.0   1940.0   \n",
       "All           1369.0  2810.0  1791.0  7550.0  5550.0  20044.0  13134.0   \n",
       "\n",
       "rating            4.0     4.5      5.0     All  \n",
       "ratings_year                                    \n",
       "1996           3402.0     NaN   2330.0    6040  \n",
       "1997           1346.0     NaN    890.0    1916  \n",
       "1998            336.0     NaN    220.0     507  \n",
       "1999           1670.0     NaN   1500.0    2439  \n",
       "2000           6344.0     NaN   3612.0   10061  \n",
       "2001           2734.0     NaN   1536.0    3922  \n",
       "2002           2520.0     NaN   1544.0    3478  \n",
       "2003           2110.0   730.0   1066.0    4014  \n",
       "2004           1678.0   810.0    346.0    3279  \n",
       "2005           2792.0  1524.0    864.0    5813  \n",
       "2006           2124.0  1030.0    516.0    4059  \n",
       "2007           3270.0  1476.0    706.0    7114  \n",
       "2008           2442.0  1072.0    974.0    4351  \n",
       "2009           1630.0   832.0    732.0    4158  \n",
       "2010           1026.0   496.0    422.0    2301  \n",
       "2011            892.0   682.0    530.0    1690  \n",
       "2012           2704.0  1358.0    914.0    4656  \n",
       "2013            942.0   678.0    576.0    1664  \n",
       "2014            692.0   352.0    218.0    1438  \n",
       "2015           3422.0  1326.0   1612.0    6616  \n",
       "2016           3504.0  1926.0   1972.0    6701  \n",
       "2017           3362.0  1270.0   1814.0    8197  \n",
       "2018           2688.0  1536.0   1518.0    6404  \n",
       "All           26815.0  8549.0  13206.0  100818  "
      ]
     },
     "execution_count": 22,
     "metadata": {},
     "output_type": "execute_result"
    }
   ],
   "source": [
    "# Ratings by Year\n",
    "dfx = dfx = df.drop(['userId', 'movieId', 'movie', 'genres', 'movie_year', 'ratings_datetime', 'ratings_date'], axis=1)\n",
    "tab_ry = pd.pivot_table(dfx,index=['ratings_year'], columns='rating', aggfunc=np.size, margins=1) \n",
    "tab_ry\n"
   ]
  },
  {
   "cell_type": "code",
   "execution_count": 24,
   "metadata": {},
   "outputs": [],
   "source": [
    "# Export to Excel\n",
    "tab_ry.to_excel(\"Ratings_by_Year.xlsx\") "
   ]
  },
  {
   "cell_type": "code",
   "execution_count": 25,
   "metadata": {},
   "outputs": [
    {
     "data": {
      "text/html": [
       "<div>\n",
       "<style scoped>\n",
       "    .dataframe tbody tr th:only-of-type {\n",
       "        vertical-align: middle;\n",
       "    }\n",
       "\n",
       "    .dataframe tbody tr th {\n",
       "        vertical-align: top;\n",
       "    }\n",
       "\n",
       "    .dataframe thead th {\n",
       "        text-align: right;\n",
       "    }\n",
       "</style>\n",
       "<table border=\"1\" class=\"dataframe\">\n",
       "  <thead>\n",
       "    <tr style=\"text-align: right;\">\n",
       "      <th>rating</th>\n",
       "      <th>0.5</th>\n",
       "      <th>1.0</th>\n",
       "      <th>1.5</th>\n",
       "      <th>2.0</th>\n",
       "      <th>2.5</th>\n",
       "      <th>3.0</th>\n",
       "      <th>3.5</th>\n",
       "      <th>4.0</th>\n",
       "      <th>4.5</th>\n",
       "      <th>5.0</th>\n",
       "      <th>All</th>\n",
       "    </tr>\n",
       "    <tr>\n",
       "      <th>genres</th>\n",
       "      <th></th>\n",
       "      <th></th>\n",
       "      <th></th>\n",
       "      <th></th>\n",
       "      <th></th>\n",
       "      <th></th>\n",
       "      <th></th>\n",
       "      <th></th>\n",
       "      <th></th>\n",
       "      <th></th>\n",
       "      <th></th>\n",
       "    </tr>\n",
       "  </thead>\n",
       "  <tbody>\n",
       "    <tr>\n",
       "      <th>(no genres listed)</th>\n",
       "      <td>4.0</td>\n",
       "      <td>2.0</td>\n",
       "      <td>NaN</td>\n",
       "      <td>2.0</td>\n",
       "      <td>12.0</td>\n",
       "      <td>12.0</td>\n",
       "      <td>10.0</td>\n",
       "      <td>12.0</td>\n",
       "      <td>14.0</td>\n",
       "      <td>6.0</td>\n",
       "      <td>37</td>\n",
       "    </tr>\n",
       "    <tr>\n",
       "      <th>Action</th>\n",
       "      <td>8.0</td>\n",
       "      <td>26.0</td>\n",
       "      <td>12.0</td>\n",
       "      <td>62.0</td>\n",
       "      <td>26.0</td>\n",
       "      <td>102.0</td>\n",
       "      <td>44.0</td>\n",
       "      <td>54.0</td>\n",
       "      <td>22.0</td>\n",
       "      <td>16.0</td>\n",
       "      <td>186</td>\n",
       "    </tr>\n",
       "    <tr>\n",
       "      <th>Action|Adventure</th>\n",
       "      <td>12.0</td>\n",
       "      <td>26.0</td>\n",
       "      <td>22.0</td>\n",
       "      <td>78.0</td>\n",
       "      <td>46.0</td>\n",
       "      <td>136.0</td>\n",
       "      <td>134.0</td>\n",
       "      <td>334.0</td>\n",
       "      <td>90.0</td>\n",
       "      <td>232.0</td>\n",
       "      <td>555</td>\n",
       "    </tr>\n",
       "    <tr>\n",
       "      <th>Action|Adventure|Animation</th>\n",
       "      <td>NaN</td>\n",
       "      <td>NaN</td>\n",
       "      <td>NaN</td>\n",
       "      <td>10.0</td>\n",
       "      <td>4.0</td>\n",
       "      <td>14.0</td>\n",
       "      <td>12.0</td>\n",
       "      <td>28.0</td>\n",
       "      <td>10.0</td>\n",
       "      <td>6.0</td>\n",
       "      <td>42</td>\n",
       "    </tr>\n",
       "    <tr>\n",
       "      <th>Action|Adventure|Animation|Children</th>\n",
       "      <td>2.0</td>\n",
       "      <td>2.0</td>\n",
       "      <td>2.0</td>\n",
       "      <td>2.0</td>\n",
       "      <td>4.0</td>\n",
       "      <td>16.0</td>\n",
       "      <td>16.0</td>\n",
       "      <td>26.0</td>\n",
       "      <td>4.0</td>\n",
       "      <td>4.0</td>\n",
       "      <td>39</td>\n",
       "    </tr>\n",
       "    <tr>\n",
       "      <th>...</th>\n",
       "      <td>...</td>\n",
       "      <td>...</td>\n",
       "      <td>...</td>\n",
       "      <td>...</td>\n",
       "      <td>...</td>\n",
       "      <td>...</td>\n",
       "      <td>...</td>\n",
       "      <td>...</td>\n",
       "      <td>...</td>\n",
       "      <td>...</td>\n",
       "      <td>...</td>\n",
       "    </tr>\n",
       "    <tr>\n",
       "      <th>Sci-Fi|Thriller|IMAX</th>\n",
       "      <td>NaN</td>\n",
       "      <td>NaN</td>\n",
       "      <td>NaN</td>\n",
       "      <td>NaN</td>\n",
       "      <td>2.0</td>\n",
       "      <td>2.0</td>\n",
       "      <td>6.0</td>\n",
       "      <td>12.0</td>\n",
       "      <td>2.0</td>\n",
       "      <td>NaN</td>\n",
       "      <td>12</td>\n",
       "    </tr>\n",
       "    <tr>\n",
       "      <th>Thriller</th>\n",
       "      <td>14.0</td>\n",
       "      <td>50.0</td>\n",
       "      <td>24.0</td>\n",
       "      <td>90.0</td>\n",
       "      <td>52.0</td>\n",
       "      <td>314.0</td>\n",
       "      <td>140.0</td>\n",
       "      <td>354.0</td>\n",
       "      <td>74.0</td>\n",
       "      <td>144.0</td>\n",
       "      <td>628</td>\n",
       "    </tr>\n",
       "    <tr>\n",
       "      <th>War</th>\n",
       "      <td>NaN</td>\n",
       "      <td>NaN</td>\n",
       "      <td>NaN</td>\n",
       "      <td>NaN</td>\n",
       "      <td>NaN</td>\n",
       "      <td>10.0</td>\n",
       "      <td>NaN</td>\n",
       "      <td>6.0</td>\n",
       "      <td>NaN</td>\n",
       "      <td>2.0</td>\n",
       "      <td>9</td>\n",
       "    </tr>\n",
       "    <tr>\n",
       "      <th>Western</th>\n",
       "      <td>NaN</td>\n",
       "      <td>10.0</td>\n",
       "      <td>NaN</td>\n",
       "      <td>20.0</td>\n",
       "      <td>6.0</td>\n",
       "      <td>70.0</td>\n",
       "      <td>24.0</td>\n",
       "      <td>98.0</td>\n",
       "      <td>32.0</td>\n",
       "      <td>42.0</td>\n",
       "      <td>151</td>\n",
       "    </tr>\n",
       "    <tr>\n",
       "      <th>All</th>\n",
       "      <td>1369.0</td>\n",
       "      <td>2810.0</td>\n",
       "      <td>1791.0</td>\n",
       "      <td>7550.0</td>\n",
       "      <td>5550.0</td>\n",
       "      <td>20044.0</td>\n",
       "      <td>13134.0</td>\n",
       "      <td>26815.0</td>\n",
       "      <td>8549.0</td>\n",
       "      <td>13206.0</td>\n",
       "      <td>100818</td>\n",
       "    </tr>\n",
       "  </tbody>\n",
       "</table>\n",
       "<p>952 rows × 11 columns</p>\n",
       "</div>"
      ],
      "text/plain": [
       "rating                                  0.5     1.0     1.5     2.0     2.5  \\\n",
       "genres                                                                        \n",
       "(no genres listed)                      4.0     2.0     NaN     2.0    12.0   \n",
       "Action                                  8.0    26.0    12.0    62.0    26.0   \n",
       "Action|Adventure                       12.0    26.0    22.0    78.0    46.0   \n",
       "Action|Adventure|Animation              NaN     NaN     NaN    10.0     4.0   \n",
       "Action|Adventure|Animation|Children     2.0     2.0     2.0     2.0     4.0   \n",
       "...                                     ...     ...     ...     ...     ...   \n",
       "Sci-Fi|Thriller|IMAX                    NaN     NaN     NaN     NaN     2.0   \n",
       "Thriller                               14.0    50.0    24.0    90.0    52.0   \n",
       "War                                     NaN     NaN     NaN     NaN     NaN   \n",
       "Western                                 NaN    10.0     NaN    20.0     6.0   \n",
       "All                                  1369.0  2810.0  1791.0  7550.0  5550.0   \n",
       "\n",
       "rating                                   3.0      3.5      4.0     4.5  \\\n",
       "genres                                                                   \n",
       "(no genres listed)                      12.0     10.0     12.0    14.0   \n",
       "Action                                 102.0     44.0     54.0    22.0   \n",
       "Action|Adventure                       136.0    134.0    334.0    90.0   \n",
       "Action|Adventure|Animation              14.0     12.0     28.0    10.0   \n",
       "Action|Adventure|Animation|Children     16.0     16.0     26.0     4.0   \n",
       "...                                      ...      ...      ...     ...   \n",
       "Sci-Fi|Thriller|IMAX                     2.0      6.0     12.0     2.0   \n",
       "Thriller                               314.0    140.0    354.0    74.0   \n",
       "War                                     10.0      NaN      6.0     NaN   \n",
       "Western                                 70.0     24.0     98.0    32.0   \n",
       "All                                  20044.0  13134.0  26815.0  8549.0   \n",
       "\n",
       "rating                                   5.0     All  \n",
       "genres                                                \n",
       "(no genres listed)                       6.0      37  \n",
       "Action                                  16.0     186  \n",
       "Action|Adventure                       232.0     555  \n",
       "Action|Adventure|Animation               6.0      42  \n",
       "Action|Adventure|Animation|Children      4.0      39  \n",
       "...                                      ...     ...  \n",
       "Sci-Fi|Thriller|IMAX                     NaN      12  \n",
       "Thriller                               144.0     628  \n",
       "War                                      2.0       9  \n",
       "Western                                 42.0     151  \n",
       "All                                  13206.0  100818  \n",
       "\n",
       "[952 rows x 11 columns]"
      ]
     },
     "execution_count": 25,
     "metadata": {},
     "output_type": "execute_result"
    }
   ],
   "source": [
    "# Ratings by Year\n",
    "dfx = dfx = df.drop(['userId', 'movieId', 'movie', 'movie_year', 'ratings_datetime', 'ratings_date', 'ratings_year'], axis=1)\n",
    "tab_rg = pd.pivot_table(dfx,index=['genres'], columns='rating', aggfunc=np.size, margins=1) \n",
    "tab_rg"
   ]
  },
  {
   "cell_type": "code",
   "execution_count": 26,
   "metadata": {},
   "outputs": [],
   "source": [
    "# Export to Excel\n",
    "tab_rg.to_excel(\"Ratings_Counts_by_Genre.xlsx\") "
   ]
  },
  {
   "cell_type": "code",
   "execution_count": 3,
   "metadata": {},
   "outputs": [
    {
     "ename": "NameError",
     "evalue": "name 'ggplot' is not defined",
     "output_type": "error",
     "traceback": [
      "\u001b[1;31m---------------------------------------------------------------------------\u001b[0m",
      "\u001b[1;31mNameError\u001b[0m                                 Traceback (most recent call last)",
      "\u001b[1;32m<ipython-input-3-1c34864ed902>\u001b[0m in \u001b[0;36m<module>\u001b[1;34m\u001b[0m\n\u001b[0;32m      2\u001b[0m  \u001b[1;33m+\u001b[0m \u001b[0maes\u001b[0m\u001b[1;33m(\u001b[0m\u001b[0mx\u001b[0m\u001b[1;33m=\u001b[0m\u001b[1;34m'movie_year'\u001b[0m\u001b[1;33m,\u001b[0m \u001b[0my\u001b[0m\u001b[1;33m=\u001b[0m\u001b[1;34m'ratings_year'\u001b[0m\u001b[1;33m,\u001b[0m \u001b[0msize\u001b[0m \u001b[1;33m=\u001b[0m \u001b[1;34m'rating'\u001b[0m\u001b[1;33m,\u001b[0m \u001b[0mcolor\u001b[0m\u001b[1;33m=\u001b[0m\u001b[1;34m'rating'\u001b[0m\u001b[1;33m)\u001b[0m\u001b[1;33m\u001b[0m\u001b[1;33m\u001b[0m\u001b[0m\n\u001b[0;32m      3\u001b[0m  \u001b[1;33m+\u001b[0m \u001b[0mgeom_point\u001b[0m\u001b[1;33m(\u001b[0m\u001b[1;33m)\u001b[0m\u001b[1;33m\u001b[0m\u001b[1;33m\u001b[0m\u001b[0m\n\u001b[1;32m----> 4\u001b[1;33m  \u001b[1;33m+\u001b[0m \u001b[0mlabs\u001b[0m\u001b[1;33m(\u001b[0m\u001b[0mtitle\u001b[0m\u001b[1;33m=\u001b[0m\u001b[1;34m'Movie Year & Rating'\u001b[0m\u001b[1;33m,\u001b[0m \u001b[0mx\u001b[0m\u001b[1;33m=\u001b[0m\u001b[1;34m'Movie Year'\u001b[0m\u001b[1;33m,\u001b[0m \u001b[0my\u001b[0m\u001b[1;33m=\u001b[0m\u001b[1;34m'Ratings Year'\u001b[0m\u001b[1;33m)\u001b[0m\u001b[1;33m\u001b[0m\u001b[1;33m\u001b[0m\u001b[0m\n\u001b[0m\u001b[0;32m      5\u001b[0m )\n",
      "\u001b[1;31mNameError\u001b[0m: name 'ggplot' is not defined"
     ]
    }
   ],
   "source": [
    "(ggplot(df)\n",
    " + aes(x='movie_year', y='ratings_year', size = 'rating', color='rating')\n",
    " + geom_point()\n",
    " + labs(title='Movie Year & Rating', x='Movie Year', y='Ratings Year')\n",
    ")"
   ]
  },
  {
   "cell_type": "markdown",
   "metadata": {},
   "source": [
    "## Conclusion\n",
    "\n",
    "Movies are made to what their markets. In other words, movies seem to be rated only based on their availability and the number of ratings generated are more inline with overall rating activity than shifting genres popularities. If there are genre shifts overtime, it is seen in the data by the movies produced but is not dedectible at the overall level or in this particular datasset.  There aren't any significant trends seen in this data for genres over time. Additionally, the number of stars given stays relatively steady as well.\n",
    "\n",
    "\n",
    "\n",
    "\n",
    "\n",
    "\n",
    "\n",
    "\n",
    "\n",
    "\n"
   ]
  }
 ],
 "metadata": {
  "kernelspec": {
   "display_name": "Python 3",
   "language": "python",
   "name": "python3"
  }
 },
 "nbformat": 4,
 "nbformat_minor": 4
}
